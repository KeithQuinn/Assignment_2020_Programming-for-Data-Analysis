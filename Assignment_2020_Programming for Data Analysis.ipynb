{
 "cells": [
  {
   "cell_type": "markdown",
   "metadata": {},
   "source": [
    "# Problem Statement\n",
    "\n",
    "The following assignment concerns the numpy.random package in Python [1]. You are required to create a Jupyter [2] notebook explaining the use of the package, including detailed explanations of at least five of the distributions provided for in the package. There are four distinct tasks to be carried out in your Jupyter notebook.\n",
    "1. Explain the overall purpose of the package.\n",
    "2. Explain the use of the “Simple random data” and “Permutations” functions.\n",
    "3. Explain the use and purpose of at least five “Distributions” functions.\n",
    "4. Explain the use of seeds in generating pseudorandom numbers."
   ]
  },
  {
   "cell_type": "markdown",
   "metadata": {},
   "source": [
    "# Part 1 - Explain the overall purpose of the package.\n",
    "***\n",
    "\n",
    "## What does random mean?\n",
    "Before getting into the numpy random package it's important to understand the actual meaning of random and where it is used! When considering single numbers, a random number is one that is drawn from a set of possible values, each of which is equally probable, i.e. a uniform distribution. When discussing a sequence of random numbers, each number drawn must be statistically independent of the others [5]. Simply put, random means a value is selected from a selection of values, this value cannot be predicted logically [3]. Also, random doen't mean different every time, each value has equal probability of being selected each time a random selection is made from a selection of values.\n",
    "\n",
    "Random numbers are useful for a variety of purposes, such as generating data to demonstrate a python function or algorithm, generating data encryption keys, simulating and modeling complex phenomena and for selecting random samples from larger data sets commonly used in gambling and games [5].\n",
    "\n",
    "## Computers and Random\n",
    "Computers function through programs which are a set of instructions therefor computers generate random numbers through a set of instructions. However, surprising as it may seem, it is difficult to get a computer to do something by chance. A computer follows its instructions blindly and is therefore completely predictable. This predictability when applied to random number generator invalidates the definition of a random number being unpredictable! However all is not lost, computers can generate random data with different levels of randomness although arguably there is a debate on how random the data really is! \n",
    "\n",
    "When generating random data computers take two approaches; Pseudo-Random Number Generators (PRNGs) and True Random Number Generators (TRNGs). The approaches have quite different characteristics and each has its pros and cons [5].\n",
    "\n",
    "### True Random Number Generators (TRNGs)\n",
    "TRNGs extract randomness from physical phenomena and introduce it into a computer. You can imagine this as a die connected to a computer, but typically people use a physical phenomenon that is easier to connect to a computer than a die is. The physical phenomenon can be very simple, like the little variations in somebody's mouse movements or in the amount of time between keystrokes [5].\n",
    "\n",
    "### Pseudo-Random Number Generators (PRNGs) \n",
    "As the word ‘pseudo’ suggests, pseudo-random numbers are not random in the way you might expect, at least not if you're used to dice rolls or lottery tickets. Essentially, PRNGs are algorithms that use mathematical formulae or simply precalculated tables to produce sequences of numbers that appear random [5]. Pseudo random is a set of values or elements that is statistically random, but it is derived from a known starting point and is typically repeated over and over. Pseudo-random numbers provide necessary values for processes that require randomness, such as creating test signals or for synchronizing sending and receiving devices in a spread spectrum transmission. It is called \"pseudo\" random, because the algorithm can repeat the sequence, and the numbers are thus not entirely random [4].\n",
    "\n",
    "### Difference between TRNGs and PRNGs\n",
    "The basic difference between PRNGs and TRNGs is easy to understand if you compare computer-generated random numbers to rolls of a die. Because PRNGs generate random numbers by using mathematical formulae or precalculated lists, using one corresponds to someone rolling a die many times and writing down the results. Whenever you ask for a die roll, you get the next on the list. Effectively, the numbers appear random, but they are really predetermined. TRNGs work by getting a computer to actually roll the die — or, more commonly, use some other physical phenomenon that is easier to connect to a computer than a die is [5].\n",
    "\n",
    "In comparison with PRNGs, TRNGs extract randomness from physical phenomena and introduce it into a computer. You can imagine this as a die connected to a computer, but typically people use a physical phenomenon that is easier to connect to a computer than a die is. The physical phenomenon can be very simple, like the little variations in somebody's mouse movements or in the amount of time between keystrokes."
   ]
  },
  {
   "cell_type": "markdown",
   "metadata": {},
   "source": [
    "# Random Number Generation Using NumPy\n",
    "NumPy's random module is a suite of functions based on Pseudo-Random Number Generators (PRNGs).[6] NumPy's random number routines produce pseudo random numbers using combinations of a BitGenerator to create sequences and a Generator to use those sequences to sample from different statistical distributions:\n",
    "- BitGenerators: Objects that generate random numbers. These are typically unsigned integer words filled with sequences of either 32 or 64 random bits.\n",
    "- Generators: Objects that transform sequences of random bits from a BitGenerator into sequences of numbers that follow a specific probability distribution (such as uniform, Normal or Binomial) within a specified interval [7]:\n",
    "\n",
    "The numpy.random module has the ability to generate random lists of data, shuffle existing data, and draw samples based on a specified distribution. Within each of these categories, many variations exist to produce many combinations of random data with varying distributions [8]. The best way to discuss this is through demonstration;\n",
    "\n",
    "## Generate Random Numbers and Data Using the random Module\n",
    "https://www.youtube.com/watch?v=KzqSDvzOFNA"
   ]
  },
  {
   "cell_type": "code",
   "execution_count": 78,
   "metadata": {},
   "outputs": [
    {
     "name": "stdout",
     "output_type": "stream",
     "text": [
      "0.28063740041723495\n",
      "3.7311948587899115\n",
      "6\n",
      "0\n",
      "True\n",
      "My favourite colour is Yellow.....for now!\n",
      "1\n",
      "Congratulations you're a winner.\n"
     ]
    }
   ],
   "source": [
    "import numpy as np\n",
    "import random\n",
    "\n",
    "value1 = random.random()\n",
    "print(value1)\n",
    "\n",
    "value2 = random.uniform(1, 10)\n",
    "print(value2)\n",
    "\n",
    "value3 = random.randint(1, 6)\n",
    "print(value3)\n",
    "\n",
    "value3 = random.randint(0, 1)\n",
    "print(value3)\n",
    "\n",
    "if value3 == 0:\n",
    "    print('True')\n",
    "elif value3 == 1:\n",
    "    print('False')\n",
    "    \n",
    "colours = ['Red', 'Black', 'Green', 'Yellow']\n",
    "value4 = random.choice(colours)\n",
    "print('My favourite colour is ' + value4 + '.....for now!')\n",
    "\n",
    "dice = [1, 2, 3, 4, 5, 6]\n",
    "pick = 1\n",
    "result = random.choice(dice)\n",
    "print(result)\n",
    "if pick == result:\n",
    "    print(\"Congratulations you're a winner.\")\n",
    "else:\n",
    "    print(\"Unlucky this time.\")"
   ]
  },
  {
   "cell_type": "markdown",
   "metadata": {},
   "source": [
    "## Shuffle existing data\n",
    "\n",
    "## Draw samples based on a specified distribution"
   ]
  },
  {
   "cell_type": "markdown",
   "metadata": {},
   "source": [
    "# Part 2 - Explain the use of the “Simple random data” and “Permutations” functions"
   ]
  },
  {
   "cell_type": "markdown",
   "metadata": {},
   "source": [
    "# Part 3 - Explain the use and purpose of at least five “Distributions” functions"
   ]
  },
  {
   "cell_type": "markdown",
   "metadata": {},
   "source": [
    "# Part 4 - Explain the use of seeds in generating pseudorandom numbers"
   ]
  },
  {
   "cell_type": "markdown",
   "metadata": {},
   "source": [
    "## References\n",
    "\n",
    "[1] NumPy Developers; Numpy; http://www.numpy.org/.\n",
    "\n",
    "[2] Project Jupyter; Project jupyter home;http://jupyter.org/.\n",
    "\n",
    "[3] Random Numbers in NumPy; W3Schools; https://www.w3schools.com/python/numpy_random.asp\n",
    "\n",
    "[4] pseudo-random numbers; pcmag; https://www.pcmag.com/encyclopedia/term/pseudo-random-numbers\n",
    "\n",
    "[5] Dr Mads Haahr; Random.org; https://www.random.org/randomness/\n",
    "\n",
    "[6] DataCamp Team; Random Number Generator Using Numpy; https://www.datacamp.com/community/tutorials/numpy-random\n",
    "\n",
    "[7] NumPy Developers; Numpy; https://numpy.org/doc/stable/reference/random/index.html?highlight=random#module-numpy.random\n",
    "\n",
    "[8] PyPros; Python NumPy | Random; https://www.youtube.com/watch?v=ig_FutNrcO8"
   ]
  }
 ],
 "metadata": {
  "kernelspec": {
   "display_name": "Python 3",
   "language": "python",
   "name": "python3"
  },
  "language_info": {
   "codemirror_mode": {
    "name": "ipython",
    "version": 3
   },
   "file_extension": ".py",
   "mimetype": "text/x-python",
   "name": "python",
   "nbconvert_exporter": "python",
   "pygments_lexer": "ipython3",
   "version": "3.8.3"
  }
 },
 "nbformat": 4,
 "nbformat_minor": 4
}
