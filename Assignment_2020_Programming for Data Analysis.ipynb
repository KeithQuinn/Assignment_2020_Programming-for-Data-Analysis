{
 "cells": [
  {
   "cell_type": "markdown",
   "metadata": {},
   "source": [
    "# Problem Statement\n",
    "***\n",
    "The following assignment concerns the numpy.random package in Python [1]. You are required to create a Jupyter [2] notebook explaining the use of the package, including detailed explanations of at least five of the distributions provided for in the package. There are four distinct tasks to be carried out in your Jupyter notebook.\n",
    "1. Explain the overall purpose of the package.\n",
    "2. Explain the use of the “Simple random data” and “Permutations” functions.\n",
    "3. Explain the use and purpose of at least five “Distributions” functions.\n",
    "4. Explain the use of seeds in generating pseudorandom numbers."
   ]
  },
  {
   "cell_type": "markdown",
   "metadata": {},
   "source": [
    "# Part 1 - Explain the overall purpose of the package.\n",
    "***\n",
    "\n",
    "## What does random mean?\n",
    "***\n",
    "Before getting into the numpy random package it's important to understand the actual meaning of random and where it is used. When considering single numbers, a random number is one that is drawn from a set of possible values, each of which is equally probable, i.e. a uniform distribution. When discussing a sequence of random numbers, each number drawn must be statistically independent of the others[5]. Simply put, random means a value is selected from a selection of values, this value cannot be predicted logically. Also, random doen't mean different every time, each value has equal probability of being selected each time a random selection is made from a selection of values[3].\n",
    "\n",
    "Random numbers are useful for a variety of purposes, such as generating data to demonstrate a python function or algorithm, generating data encryption keys, simulating and modeling complex phenomena and for selecting random samples from larger data sets commonly used in gambling and games[5].\n",
    "\n",
    "## Computers and Random\n",
    "***\n",
    "Computers function through programs which are a set of instructions therefor computers generate random numbers through a set of instructions. However, surprising as it may seem, it is difficult to get a computer to do something by chance. A computer follows its instructions blindly and is therefore completely predictable. This predictability when applied to random number generator invalidates the definition of a random number being unpredictable! However all is not lost, computers can generate random data with different levels of randomness although arguably there is a debate on how random the data really is[5].\n",
    "\n",
    "When generating random data computers take two approaches; Pseudo-Random Number Generators (PRNGs) and True Random Number Generators (TRNGs). The approaches have quite different characteristics and each has its pros and cons[5].\n",
    "\n",
    "### True Random Number Generators (TRNGs)\n",
    "***\n",
    "TRNGs extract randomness from physical phenomena and introduce it into a computer. You can imagine this as a die connected to a computer, but typically people use a physical phenomenon that is easier to connect to a computer than a die is. The physical phenomenon can be very simple, like the little variations in somebody's mouse movements or in the amount of time between keystrokes [5].\n",
    "\n",
    "### Pseudo-Random Number Generators (PRNGs)\n",
    "***\n",
    "As the word ‘pseudo’ suggests, pseudo-random numbers are not random in the way you might expect, at least not if you're used to dice rolls or lottery tickets. Essentially, PRNGs are algorithms that use mathematical formulae or simply precalculated tables to produce sequences of numbers that appear random[5]. Pseudo random is a set of values or elements that is statistically random, but it is derived from a known starting point and is typically repeated over and over. Pseudo-random numbers provide necessary values for processes that require randomness, such as creating test signals or for synchronizing sending and receiving devices in a spread spectrum transmission. It is called \"pseudo\" random, because the algorithm can repeat the sequence, and the numbers are thus not entirely random[4].\n",
    "\n",
    "### Difference between TRNGs and PRNGs\n",
    "***\n",
    "The basic difference between PRNGs and TRNGs is easy to understand if you compare computer-generated random numbers to rolls of a die. Because PRNGs generate random numbers by using mathematical formulae or precalculated lists, using one corresponds to someone rolling a die many times and writing down the results. Whenever you ask for a die roll, you get the next on the list. Effectively, the numbers appear random, but they are really predetermined. TRNGs work by getting a computer to actually roll the die — or, more commonly, use some other physical phenomenon that is easier to connect to a computer than a die is[5].\n",
    "\n",
    "In comparison with PRNGs, TRNGs extract randomness from physical phenomena and introduce it into a computer. You can imagine this as a die connected to a computer, but typically people use a physical phenomenon that is easier to connect to a computer than a die is. The physical phenomenon can be very simple, like the little variations in somebody's mouse movements or in the amount of time between keystrokes[5]."
   ]
  },
  {
   "cell_type": "markdown",
   "metadata": {},
   "source": [
    "# Random Number Generation Using NumPy\n",
    "***\n",
    "NumPy's random module is a suite of functions based on Pseudo-Random Number Generators (PRNGs)[6]. NumPy's random number routines produce pseudo random numbers using combinations of a BitGenerator to create sequences and a Generator to use those sequences to sample from different statistical distributions:\n",
    "- BitGenerators: Objects that generate random numbers. These are typically unsigned integer words filled with sequences of either 32 or 64 random bits.\n",
    "- Generators: Objects that transform sequences of random bits from a BitGenerator into sequences of numbers that follow a specific probability distribution (such as uniform, Normal or Binomial) within a specified interval [7]:\n",
    "\n",
    "The numpy.random module has the ability to generate random lists of data, shuffle existing data, and draw samples based on a specified distribution. Within each of these categories, many variations exist to produce many combinations of random data with varying distributions [8]. The best way to discuss this is through demonstration;\n",
    "\n",
    "## Generate Random Numbers and Data Using the random Module\n",
    "***"
   ]
  },
  {
   "cell_type": "markdown",
   "metadata": {},
   "source": [
    "### Generating random float point numbers and integers with random, uniform and randint methods\n",
    "***"
   ]
  },
  {
   "cell_type": "code",
   "execution_count": 1,
   "metadata": {},
   "outputs": [
    {
     "name": "stdout",
     "output_type": "stream",
     "text": [
      "A random number between 0 and 1 is: 0.41605728054547386. (0 is inclusive and 1 is non inclusive)\n",
      "\n",
      "A random floating point number between 1 and 10 is: 4.121955274722427. (1 is inclusive and 10 is non inclusive)\n",
      "\n",
      "A random integer between 1 and 8 is: 3. (Both values are inclusive)\n",
      "\n"
     ]
    }
   ],
   "source": [
    "import numpy as np\n",
    "import random\n",
    "\n",
    "# Use the random method to get a random value between 0 and 1, 0 is inclusive and 1 is non inclusive.\n",
    "value1 = random.random()\n",
    "print(f'A random number between 0 and 1 is: {value1}. (0 is inclusive and 1 is non inclusive)')\n",
    "print()\n",
    "\n",
    "# Use the uniform method to get a random floating point value between two values.\n",
    "# Set the arguments to determine the range; (1, 10) in the example below.\n",
    "value2 = random.uniform(1, 10)\n",
    "print(f'A random floating point number between 1 and 10 is: {value2}. (1 is inclusive and 10 is non inclusive)')\n",
    "print()\n",
    "\n",
    "# Use the randint method to get a random integer between two values, both values are inclusive.\n",
    "# Set the arguments to determine the range; (1, 8) in the example below.\n",
    "value3 = random.randint(1, 8)\n",
    "print(f'A random integer between 1 and 8 is: {value3}. (Both values are inclusive)')\n",
    "print()"
   ]
  },
  {
   "cell_type": "markdown",
   "metadata": {},
   "source": [
    "#### Discussing the code from generating random float point numbers and integers with random, uniform and randint methods\n",
    "***\n",
    "First step is to import numpy and random. This code looks at three ways of generating a random number using NumPy random.\n",
    "- random.random\n",
    "- random.uniform\n",
    "- random.randint\n",
    "\n",
    "Firstly consider random.random, this generates a random value between 0 and 1, an important consideration is that the 0 is inclusive and the 1 is non inclusive[9].\n",
    "\n",
    "Next consider random.uniform, this generates a random floating point value between two values, the two values are selected as the argument within the function[9].\n",
    "\n",
    "Finally consider random.randint, this generates a random integer between two values, important to note that both values in the argument are inclusive unlike rendom.random[9]."
   ]
  },
  {
   "cell_type": "markdown",
   "metadata": {},
   "source": [
    "### Playing games using the randint method:\n",
    "***"
   ]
  },
  {
   "cell_type": "code",
   "execution_count": 2,
   "metadata": {
    "scrolled": true
   },
   "outputs": [
    {
     "name": "stdout",
     "output_type": "stream",
     "text": [
      "Unlucky this time, you picked 1 and the dice rolled a 6.\n",
      "\n",
      "You picked heads which is 1, it was a 0 which is tails so you lose.\n",
      "\n"
     ]
    }
   ],
   "source": [
    "# The randint method can be used to roll a virtual dice.\n",
    "dice = random.randint(1, 6)\n",
    "pick = 1\n",
    "result = dice\n",
    "#print(result)\n",
    "if pick == result:\n",
    "    print(f'Congratulations you have won, you picked {pick} and the dice rolled a {result}.')\n",
    "else:\n",
    "    print(f'Unlucky this time, you picked {pick} and the dice rolled a {result}.')\n",
    "print()\n",
    "\n",
    "# The randint method can be used as a virtual coin toss.\n",
    "value3 = random.randint(0, 1)\n",
    "#1 = Players pick heads\n",
    "#0 = tails\n",
    "if value3 == 1:\n",
    "    print(f'You picked heads which is 1, it was a {value3} so you win')\n",
    "elif value3 == 0:\n",
    "    print(f'You picked heads which is 1, it was a {value3} which is tails so you lose.')\n",
    "print()"
   ]
  },
  {
   "cell_type": "markdown",
   "metadata": {},
   "source": [
    "#### Discussing the code from playing games using the randint method\n",
    "***\n",
    "As explained previously the random.randint method is used to generate a random integer given two values in the function argument with both being inclusive. A practical use of this function is explored by playing two age old games;\n",
    "\n",
    "- roll the dice\n",
    "- coin toss\n",
    "\n",
    "To play roll the dice the player picks a number between 1 and 6 inclusive, the dice is rolled and if it lands on the players pick they win. To play this game the random.randint method is used which simulates rolling the dice where any value between 1 and 6 inclusive is generated. This number is then stored, the player then picks a number. If their pick equals the result from the dice roll they win.\n",
    "\n",
    "The toin coss is similar but the odds are much more in the players favour having a 1 in 2 chance of success compared to a 1 in 6 chance on rolling the dice. Just as before the random.randint method is used with the arguments set to 0 and 1. The player picks heads which is equal to 1. If the random.randint returns 1 the player wins, if 0 is returns the player loses."
   ]
  },
  {
   "cell_type": "markdown",
   "metadata": {},
   "source": [
    "### Making choices and playing games using the choice(s) method\n",
    "***"
   ]
  },
  {
   "cell_type": "code",
   "execution_count": 3,
   "metadata": {},
   "outputs": [
    {
     "name": "stdout",
     "output_type": "stream",
     "text": [
      "Next year I\"m going to buy a yellow car!\n",
      "\n",
      "Congratulations you have won you picked 1 and the dice rolled a 1.\n",
      "\n",
      "Your three darts are:\n",
      "[7, 16, 10]\n",
      "\n"
     ]
    }
   ],
   "source": [
    "# Use the choice method to pick a random value from a list of values\n",
    "colours = ['red', 'black', 'green', 'yellow']\n",
    "value4 = random.choice(colours)\n",
    "print('Next year I\"m going to buy a ' + value4 + ' car!')\n",
    "print()\n",
    "\n",
    "# The choice method can be used to roll a virtual dice.\n",
    "dice = list(range(1,7))\n",
    "pick = 1\n",
    "result = random.choice(dice)\n",
    "if pick == result:\n",
    "    print(f'Congratulations you have won you picked {pick} and the dice rolled a {result}.')\n",
    "else:\n",
    "    print(f'Unlucky this time, you picked {pick} and the dice rolled a {result}.')\n",
    "print()\n",
    "\n",
    "# Use the choices method to pick multiple random values from a list of values\n",
    "# The choices method can be used to play a game of virtual darts\n",
    "# The 25 and bullseye are less likely to be hit as they are smaller targets,\n",
    "# to account for this the targets are weighted, this means that 25 is 2 times less likely,\n",
    "# and bullseye is 4 times less likely to be scored than the 1 to 20 targets.\n",
    "dart_board = np.arange(1, 21, 1) # 1 to 20\n",
    "dart_board = np.append(dart_board,(25,50)) # include 25 and bullseye.\n",
    "three_darts = random.choices(dart_board, weights=[2,2,2,2,2,2,2,2,2,2,2,2,2,2,2,2,2,2,2,2,1,0.5] ,k=3)\n",
    "print(f'Your three darts are:\\n{three_darts}')\n",
    "print()"
   ]
  },
  {
   "cell_type": "markdown",
   "metadata": {},
   "source": [
    "#### Discussing the code from making choices and playing games using the choice(s) method\n",
    "***\n",
    "The random.choice(s) can be used to pick a random value rom a list of values[11]. In the example above the person is unsure what colour car to go for out of the four options available so they decide to leave it up to random.choice! \n",
    "\n",
    "It's possible to play roll the dice using the random.choice method also. Code is slightly different here where a list(range()) function is used to creat a list of the possible 6 numbers. As before the player picks a number. The result this time is achieved by using random.choice to pick one of the 6 numbers. If pick and result are the same the player wins, otherwise they lose.\n",
    "\n",
    "What if more than one choice or selection is required from the list, for this random.choices can be used. To demonstrate let's play a game of darts. Firstly, the dartboard is set up by creating a list 1 to 20 then appending the 25 and bullseye. Given the bullseye is the smallest target followed by the 25, weights is added as an argument to the random.choices. With weights it's four times less likely to get a 50 than any number between 1 and 20 inclusive, the 25 is 2 times less likely to be generated. Running the function generates three values as the three darts thrown[11]."
   ]
  },
  {
   "cell_type": "markdown",
   "metadata": {},
   "source": [
    "### Playing a game of cards using the shuffle method\n",
    "***"
   ]
  },
  {
   "cell_type": "code",
   "execution_count": 4,
   "metadata": {},
   "outputs": [
    {
     "name": "stdout",
     "output_type": "stream",
     "text": [
      "All 52 cards present in the card deck:\n",
      "[1, 2, 3, 4, 5, 6, 7, 8, 9, 10, 11, 12, 13, 14, 15, 16, 17, 18, 19, 20, 21, 22, 23, 24, 25, 26, 27, 28, 29, 30, 31, 32, 33, 34, 35, 36, 37, 38, 39, 40, 41, 42, 43, 44, 45, 46, 47, 48, 49, 50, 51, 52]\n",
      "\n",
      "Card deck after shuffle:\n",
      "[31, 11, 6, 27, 10, 3, 45, 43, 19, 26, 24, 33, 38, 20, 28, 41, 8, 30, 29, 44, 22, 32, 37, 42, 51, 40, 25, 7, 12, 39, 52, 35, 49, 47, 5, 2, 50, 9, 48, 18, 13, 46, 16, 36, 23, 17, 15, 21, 14, 1, 4, 34]\n",
      "\n",
      "Your hand is:\n",
      "[46, 44, 4, 16, 14]\n"
     ]
    }
   ],
   "source": [
    "# Now for a game of cards\n",
    "# Use the shuffle method to shuffle the deck of cards\n",
    "card_deck = list(range(1,53))\n",
    "print(f'All 52 cards present in the card deck:\\n{card_deck}')\n",
    "print()\n",
    "random.shuffle(card_deck)\n",
    "print((f'Card deck after shuffle:\\n{card_deck}'))\n",
    "# With the card deck shuffled take 5 cards from the deck.\n",
    "# The choices method can't be used here as it could select the same card multiple times.\n",
    "# Use the sample method to select unique cards from the card deck, 5 cards are required for a hand.\n",
    "hand = random.sample(card_deck, k=5)\n",
    "print()\n",
    "print(f'Your hand is:\\n{hand}')"
   ]
  },
  {
   "cell_type": "markdown",
   "metadata": {},
   "source": [
    "#### Discussing the code from playing a game of cards using the shuffle method\n",
    "***\n",
    "It has been previously shown how to select multiple values from a list by using random.choices however this may return the same value twice which in some circumstances may be an issue. Let's consider a game of cards as an example, if you play a game of cards each card should only be dealt once so to randomly generate a hand of cards it wouldn't be viable to use random.choices. For this there is the random.sample option which will only select an item from a list once[11]. \n",
    "\n",
    "Consider the card game above, a deck of cards is generated as a list of numbers 1 to 52 and printed. As with any card game the deck must be shuffled (although not really necessary as it's a random seection but used demostrate random.shuffle), this is achieved using the random.shuffle method. With the cards shuffled the random.sample is used to generate a hand of 5 cards (k=5) from the card deck[11]."
   ]
  },
  {
   "cell_type": "markdown",
   "metadata": {},
   "source": [
    "### Using the NumPy random for demonstration\n",
    "***\n",
    "Having discussed the NumPy random package, it's time to put it to a practical use which will be to prove the law of large numbers theorm.\n",
    "\n",
    "The law of large numbers has a very central role in probability and statistics. It states that if you repeat an experiment independently a large number of times and average the result, what you obtain should be close to the expected value[12]. In other words if you play a game of heads or tails enough times the actual experimental results will equal the actual probability of heads 50% and tails 50% of the time, or like in the example below if you roll a dice enough times the experimental results will equal the probability of 16.66' chance of getting any of the numbers from 1 to 6 inclusive. Refer to following example for evidence."
   ]
  },
  {
   "cell_type": "code",
   "execution_count": 5,
   "metadata": {
    "scrolled": true
   },
   "outputs": [
    {
     "name": "stdout",
     "output_type": "stream",
     "text": [
      "[1, 2, 3, 4, 5, 6]\n"
     ]
    },
    {
     "data": {
      "image/png": "[encoded data removed]",
      "text/plain": [
       "<Figure size 720x432 with 1 Axes>"
      ]
     },
     "metadata": {
      "needs_background": "light"
     },
     "output_type": "display_data"
    },
    {
     "data": {
      "image/png": "[encoded data removed]",
      "text/plain": [
       "<Figure size 720x432 with 1 Axes>"
      ]
     },
     "metadata": {},
     "output_type": "display_data"
    },
    {
     "data": {
      "image/png": "[encoded data removed]",
      "text/plain": [
       "<Figure size 720x432 with 1 Axes>"
      ]
     },
     "metadata": {},
     "output_type": "display_data"
    },
    {
     "data": {
      "image/png": "[encoded data removed]",
      "text/plain": [
       "<Figure size 720x432 with 1 Axes>"
      ]
     },
     "metadata": {},
     "output_type": "display_data"
    },
    {
     "data": {
      "image/png": "[encoded data removed]",
      "text/plain": [
       "<Figure size 720x432 with 1 Axes>"
      ]
     },
     "metadata": {},
     "output_type": "display_data"
    }
   ],
   "source": [
    "import seaborn as sns\n",
    "import matplotlib.pyplot as plt\n",
    "\n",
    "dice = list(range(1,7))\n",
    "print(dice)\n",
    "dice_roll = []\n",
    "\n",
    "for num in range(10):\n",
    "    dice_roll = np.append(dice_roll, random.choice(dice))  \n",
    "plt.figure(figsize=(10, 6))\n",
    "sns.set(style=\"darkgrid\")\n",
    "ax = sns.countplot(y=dice_roll)\n",
    "plt.title(\"Law of Large Numbers [n=10]\")\n",
    "plt.suptitle(\"Dice Roll\")\n",
    "plt.ylabel(\"Rolled Dice Value\")\n",
    "plt.show()\n",
    "\n",
    "for num in range(100):\n",
    "    dice_roll = np.append(dice_roll, random.choice(dice))  \n",
    "plt.figure(figsize=(10, 6))\n",
    "sns.set(style=\"darkgrid\")\n",
    "ax = sns.countplot(y=dice_roll)\n",
    "plt.title(\"Law of Large Numbers [n=100]\")\n",
    "plt.suptitle(\"Dice Roll\")\n",
    "plt.ylabel(\"Rolled Dice Value\")\n",
    "plt.show()\n",
    "\n",
    "for num in range(1000):\n",
    "    dice_roll = np.append(dice_roll, random.choice(dice))  \n",
    "plt.figure(figsize=(10, 6))\n",
    "sns.set(style=\"darkgrid\")\n",
    "ax = sns.countplot(y=dice_roll)\n",
    "plt.title(\"Law of Large Numbers [n=1,000]\")\n",
    "plt.suptitle(\"Dice Roll\")\n",
    "plt.ylabel(\"Rolled Dice Value\")\n",
    "plt.show()\n",
    "\n",
    "for num in range(10000):\n",
    "    dice_roll = np.append(dice_roll, random.choice(dice))  \n",
    "plt.figure(figsize=(10, 6))\n",
    "sns.set(style=\"darkgrid\")\n",
    "ax = sns.countplot(y=dice_roll)\n",
    "plt.title(\"Law of Large Numbers [n=10,000]\")\n",
    "plt.suptitle(\"Dice Roll\")\n",
    "plt.ylabel(\"Rolled Dice Value\")\n",
    "plt.show()\n",
    "\n",
    "for num in range(100000):\n",
    "    dice_roll = np.append(dice_roll, random.choice(dice))  \n",
    "plt.figure(figsize=(10, 6))\n",
    "sns.set(style=\"darkgrid\")\n",
    "ax = sns.countplot(y=dice_roll)\n",
    "plt.title(\"Law of Large Numbers [n=100,000]\")\n",
    "plt.suptitle(\"Dice Roll\")\n",
    "plt.ylabel(\"Rolled Dice Value\")\n",
    "plt.show()"
   ]
  },
  {
   "cell_type": "markdown",
   "metadata": {},
   "source": [
    "### Discussing the code from Using the NumPy random for demonstration\n",
    "***\n",
    "A good way to finish the first section of the assignment whaich was to explain the overall purpose of the package. NumPy is used to prove the law of large numbers theorm.\n",
    "\n",
    "*The law of large numbers has a very central role in probability and statistics. It states that if you repeat an experiment independently a large number of times and average the result, what you obtain should be close to the expected value[12].*\n",
    "\n",
    "In the code above the roll the dice game is employed. Again a list is created with 1 to 6 inclusive to represent the 6 results of a dice roll. An empty list is created and defined as the dice roll. The experiment starts by simulating rolling the dice 10 times, the result of which more often than not doesn't represent the true probability of 16.67% chance for each result. The second time the dice is rolled 100, then 1,000, then 10,000 and finally 100,000 times. Each time by increasing the number of experiments the experimental results get closer to the theoretical probability. This is aa simple but effective way to demonstrate the law of large numbers and how the NumPy.random method is true to this theorm."
   ]
  },
  {
   "cell_type": "markdown",
   "metadata": {},
   "source": [
    "# Part 2 - Explain the use of the “Simple random data” and “Permutations” functions"
   ]
  },
  {
   "cell_type": "markdown",
   "metadata": {},
   "source": [
    "# Part 3 - Explain the use and purpose of at least five “Distributions” functions\n",
    "\n",
    "\n",
    "## Draw samples based on a specified distribution"
   ]
  },
  {
   "cell_type": "markdown",
   "metadata": {},
   "source": [
    "# Part 4 - Explain the use of seeds in generating pseudorandom numbers"
   ]
  },
  {
   "cell_type": "markdown",
   "metadata": {},
   "source": [
    "## References\n",
    "\n",
    "[1] NumPy Developers; Numpy; http://www.numpy.org/.\n",
    "\n",
    "[2] Project Jupyter; Project jupyter home;http://jupyter.org/.\n",
    "\n",
    "[3] Random Numbers in NumPy; W3Schools; https://www.w3schools.com/python/numpy_random.asp\n",
    "\n",
    "[4] pseudo-random numbers; pcmag; https://www.pcmag.com/encyclopedia/term/pseudo-random-numbers\n",
    "\n",
    "[5] Dr Mads Haahr; Random.org; https://www.random.org/randomness/\n",
    "\n",
    "[6] DataCamp Team; Random Number Generator Using Numpy; https://www.datacamp.com/community/tutorials/numpy-random\n",
    "\n",
    "[7] NumPy Developers; Numpy; https://numpy.org/doc/stable/reference/random/index.html?highlight=random#module-numpy.random\n",
    "\n",
    "[8] PyPros; Python NumPy | Random; https://www.youtube.com/watch?v=ig_FutNrcO8\n",
    "\n",
    "[9] Python; random — Generate pseudo-random numbers; https://www.youtube.com/watch?v=KzqSDvzOFNA\n",
    "\n",
    "[10] PYnative; Python random.choice() function to select random item from a List and Set; https://pynative.com/python-random-choice/\n",
    "\n",
    "[11] Corey Schafer; Python Tutorial: Generate Random Numbers and Data Using the random Module; https://docs.python.org/3/library/random.html\n",
    "\n",
    "[12] Britannica; Law of large numbers; https://www.britannica.com/science/law-of-large-numbers"
   ]
  }
 ],
 "metadata": {
  "kernelspec": {
   "display_name": "Python 3",
   "language": "python",
   "name": "python3"
  },
  "language_info": {
   "codemirror_mode": {
    "name": "ipython",
    "version": 3
   },
   "file_extension": ".py",
   "mimetype": "text/x-python",
   "name": "python",
   "nbconvert_exporter": "python",
   "pygments_lexer": "ipython3",
   "version": "3.8.3"
  }
 },
 "nbformat": 4,
 "nbformat_minor": 4
}
